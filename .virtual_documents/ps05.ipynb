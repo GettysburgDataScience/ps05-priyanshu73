## Replace this with your name and Section




















import pandas as pd
import matplotlib.pyplot as plt


df = pd.read_csv('titanic.csv')


total_passengers = df.shape[0]
percent_male = (df['Sex'].mean()) * 100 
percent_survived = (df['Survived'].mean()) * 100

print("Total number of passengers:", total_passengers)
print("Percentage of male passengers:", round(percent_male,2))
print("Percentage of passengers who survived:", round(percent_survived,2))









survival_rates_by_gender = df.groupby('Sex')['Survived'].mean() * 100

print("Percentage of female passengers who survived:", round(survival_rates_by_gender[0],2))
print("Percentage of male passengers who survived:", round(survival_rates_by_gender[1],1))








class_analysis = df.groupby('Pclass').agg(
    total_tickets=('Pclass', 'size'),
    survival_rate=('Survived', 'mean')
)


class_analysis['percent_tickets'] = (class_analysis['total_tickets'] / total_passengers) * 100
class_analysis['survival_rate'] *= 100  

print("Class Analysis:\n", class_analysis)









survivors = df[df['Survived'] == 1][['Age', 'Name', 'Sex']]
non_survivors = df[df['Survived'] == 0][['Age', 'Name', 'Sex']]

print("First five rows of survivors:\n", survivors.head())
print("First five rows of non-survivors:\n", non_survivors.head())


plt.figure(figsize=(12, 6))
plt.hist(df[(df['Survived'] == 1) & (df['Sex'] == 1)]['Age'].dropna(), bins=15, alpha=0.5, label='Male Survivors', color='blue', histtype='stepfilled')
plt.hist(df[(df['Survived'] == 1) & (df['Sex'] == 0)]['Age'].dropna(), bins=15, alpha=0.5, label='Female Survivors', color='green', histtype='stepfilled')
plt.hist(df[(df['Survived'] == 0) & (df['Sex'] == 1)]['Age'].dropna(), bins=15, alpha=0.5, label='Male Non-Survivors', color='red', histtype='stepfilled')
plt.hist(df[(df['Survived'] == 0) & (df['Sex'] == 0)]['Age'].dropna(), bins=15, alpha=0.5, label='Female Non-Survivors', color='orange', histtype='stepfilled')


plt.xlabel('Age')
plt.ylabel('Frequency')
plt.title('Age Distribution by Sex and Survivorship')
plt.legend()
plt.show()






import pandas as pd
import numpy as np
import matplotlib.pyplot as plt
from sklearn.model_selection import train_test_split
from sklearn.tree import DecisionTreeClassifier, plot_tree
from sklearn.neighbors import KNeighborsClassifier
from sklearn.preprocessing import StandardScaler
from sklearn.impute import SimpleImputer
from sklearn.pipeline import Pipeline
from sklearn.metrics import ConfusionMatrixDisplay

def load_and_preprocess_data():

    df = pd.read_csv('titanic.csv') 

   
    df['Family_Size'] = df['SibSp'] + df['Parch'] + 1

    
    df['Embarked'] = df['Embarked'].map({'C': 1, 'Q': 2, 'S': 3}).fillna(0)

    return df

# Load and preprocess the data
data = load_and_preprocess_data()

# Define label and features
label = 'Survived'
features = ['Sex', 'Age', 'Pclass', 'Family_Size', 'Embarked']

# Split the data into training and testing sets
X_train, X_test, y_train, y_test = train_test_split(
    data[features], 
    data[label], 
    test_size=0.2, 
    random_state=42
)

# Decision Tree Classifier
def decision_tree_analysis(X_train, X_test, y_train, y_test):
    # Create pipeline with imputation
    tree_pipeline = Pipeline([
        ('imputer', SimpleImputer(strategy='median')),
        ('classifier', DecisionTreeClassifier(max_depth=4))
    ])
    
    # Fit the pipeline
    tree_pipeline.fit(X_train, y_train)
    tree_clf = tree_pipeline.named_steps['classifier']
    
    # Visualize the decision tree
    plt.figure(figsize=(20, 10))
    plot_tree(
        tree_clf, 
        feature_names=features, 
        class_names=["Drowned", "Survived"], 
        filled=True, 
        fontsize=10
    )
    plt.title("Decision Tree Visualization")
    plt.tight_layout()
    plt.show()
    

    y_tree_train = tree_pipeline.predict(X_train)
    y_tree_test = tree_pipeline.predict(X_test)
    

    fig, ax = plt.subplots(1, 2, figsize=(12, 5))
    ConfusionMatrixDisplay.from_predictions(
        y_train, y_tree_train, 
        normalize='true', 
        display_labels=["Drowned", "Survived"], 
        ax=ax[0]
    )
    ConfusionMatrixDisplay.from_predictions(
        y_test, y_tree_test, 
        normalize='true', 
        display_labels=["Drowned", "Survived"], 
        ax=ax[1]
    )
    ax[0].set_title("Training")
    ax[1].set_title("Testing")
    fig.suptitle("Decision Tree Confusion Matrices")
    plt.subplots_adjust(wspace=0.35)
    plt.show()
    
    return tree_pipeline, y_tree_train, y_tree_test


def knn_analysis(X_train, X_test, y_train, y_test):

    knn_pipeline = Pipeline([
        ('imputer', SimpleImputer(strategy='median')),
        ('scaler', StandardScaler()),
        ('classifier', KNeighborsClassifier(n_neighbors=15))
    ])
    

    knn_pipeline.fit(X_train, y_train)
    

    y_knn_train = knn_pipeline.predict(X_train)
    y_knn_test = knn_pipeline.predict(X_test)
    

    fig, ax = plt.subplots(1, 2, figsize=(12, 5))
    ConfusionMatrixDisplay.from_predictions(
        y_train, y_knn_train, 
        normalize='true', 
        display_labels=["Drowned", "Survived"], 
        ax=ax[0]
    )
    ConfusionMatrixDisplay.from_predictions(
        y_test, y_knn_test, 
        normalize='true', 
        display_labels=["Drowned", "Survived"], 
        ax=ax[1]
    )
    ax[0].set_title("Training")
    ax[1].set_title("Testing")
    fig.suptitle("KNN Confusion Matrices")
    plt.subplots_adjust(wspace=0.35)
    plt.show()
    
    return knn_pipeline, y_knn_train, y_knn_test


tree_clf, y_tree_train, y_tree_test = decision_tree_analysis(X_train, X_test, y_train, y_test)
knn_clf, y_knn_train, y_knn_test = knn_analysis(X_train, X_test, y_train, y_test)


print("Decision Tree Performance:")
print(f"Training Accuracy: {tree_clf.score(X_train, y_train):.2%}")
print(f"Testing Accuracy: {tree_clf.score(X_test, y_test):.2%}")

print("\nKNN Performance:")
print(f"Training Accuracy: {knn_clf.score(X_train, y_train):.2%}")
print(f"Testing Accuracy: {knn_clf.score(X_test, y_test):.2%}")



